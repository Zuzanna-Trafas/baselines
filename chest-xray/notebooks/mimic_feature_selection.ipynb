{
 "cells": [
  {
   "cell_type": "code",
   "execution_count": null,
   "metadata": {},
   "outputs": [],
   "source": [
    "import pandas as pd"
   ]
  },
  {
   "cell_type": "code",
   "execution_count": null,
   "metadata": {},
   "outputs": [],
   "source": [
    "mimic_path = \"/mnt/data/MIMIC/physionet.org/files/mimiciv/2.2/hosp/\"\n",
    "patients =  pd.read_csv(mimic_path + \"patients.csv.gz\", compression='gzip')\n",
    "admissions = pd.read_csv(mimic_path + \"admissions.csv.gz\", compression='gzip')"
   ]
  },
  {
   "cell_type": "code",
   "execution_count": null,
   "metadata": {},
   "outputs": [],
   "source": [
    "mimic_cxr_path = \"/mnt/data/MIMIC-CXR-JPG/physionet.org/files/mimic-cxr-jpg/2.1.0/\"\n",
    "split = pd.read_csv(mimic_cxr_path + \"mimic-cxr-2.0.0-split.csv.gz\", compression='gzip')\n",
    "metadata = pd.read_csv(mimic_cxr_path + \"mimic-cxr-2.0.0-metadata.csv.gz\", compression='gzip')"
   ]
  },
  {
   "cell_type": "code",
   "execution_count": null,
   "metadata": {},
   "outputs": [],
   "source": [
    "mimic_cxr_df = pd.merge(split, metadata, on=['dicom_id', 'subject_id', 'study_id'])\n",
    "len(mimic_cxr_df)"
   ]
  },
  {
   "cell_type": "code",
   "execution_count": null,
   "metadata": {},
   "outputs": [],
   "source": [
    "mimic_df = pd.merge(patients, admissions, on='subject_id')\n",
    "len(mimic_df)"
   ]
  },
  {
   "cell_type": "code",
   "execution_count": null,
   "metadata": {},
   "outputs": [],
   "source": [
    "merged_df = pd.merge(mimic_cxr_df, mimic_df, on='subject_id', how='inner')\n",
    "# merged_df.dropna(subset=['StudyDate', 'admittime', 'dischtime'], inplace=True)\n",
    "print(len(merged_df))\n",
    "\n",
    "merged_df['StudyDate'] = pd.to_datetime(merged_df['StudyDate'], format='%Y%m%d')\n",
    "merged_df['admittime'] = pd.to_datetime(merged_df['admittime'])\n",
    "merged_df['dischtime'] = pd.to_datetime(merged_df['dischtime'])\n",
    "\n",
    "duplicate_rows = merged_df[merged_df.duplicated(subset=['subject_id', 'study_id', 'dicom_id'])]\n",
    "filtered_duplicates = duplicate_rows[\n",
    "    (duplicate_rows['StudyDate'] >= duplicate_rows['admittime'].dt.date) & \n",
    "    (duplicate_rows['StudyDate'] <= duplicate_rows['dischtime'].dt.date)\n",
    "]\n",
    "\n",
    "filtered_duplicates = filtered_duplicates.drop_duplicates(subset=['subject_id', 'study_id', 'dicom_id'], keep=False)\n",
    "merged_df = merged_df.drop_duplicates(subset=['subject_id', 'study_id', 'dicom_id'], keep=False)\n",
    "\n",
    "merged_df = pd.concat([merged_df, filtered_duplicates])\n",
    "\n",
    "print(len(merged_df))"
   ]
  },
  {
   "cell_type": "code",
   "execution_count": null,
   "metadata": {},
   "outputs": [],
   "source": [
    "merged_df['year_difference'] = merged_df['StudyDate'].dt.year - merged_df['anchor_year']\n",
    "\n",
    "# Adjust anchor_age based on the difference between anchor_year and StudyDate year\n",
    "merged_df['adjusted_age'] = merged_df['anchor_age'] + merged_df['year_difference']"
   ]
  },
  {
   "cell_type": "code",
   "execution_count": null,
   "metadata": {},
   "outputs": [],
   "source": [
    "merged_df.columns"
   ]
  },
  {
   "cell_type": "code",
   "execution_count": null,
   "metadata": {},
   "outputs": [],
   "source": [
    "analysis_df = merged_df[['dicom_id', 'study_id', 'subject_id', 'split','gender', 'anchor_age', 'adjusted_age', 'marital_status', 'race']]\n",
    "analysis_df"
   ]
  },
  {
   "cell_type": "code",
   "execution_count": null,
   "metadata": {},
   "outputs": [],
   "source": [
    "213348/377110"
   ]
  },
  {
   "cell_type": "code",
   "execution_count": null,
   "metadata": {},
   "outputs": [],
   "source": [
    "merged_df = merged_df = pd.merge(mimic_cxr_df, patients, on='subject_id', how='inner')\n",
    "analysis_df = merged_df[['dicom_id', 'study_id', 'subject_id', 'split','gender', 'anchor_age']]\n",
    "analysis_df.dropna()"
   ]
  },
  {
   "cell_type": "code",
   "execution_count": null,
   "metadata": {},
   "outputs": [],
   "source": [
    "357542/377110"
   ]
  },
  {
   "cell_type": "code",
   "execution_count": null,
   "metadata": {},
   "outputs": [],
   "source": [
    "321196 / 377110"
   ]
  }
 ],
 "metadata": {
  "kernelspec": {
   "display_name": "chest-xray",
   "language": "python",
   "name": "python3"
  },
  "language_info": {
   "codemirror_mode": {
    "name": "ipython",
    "version": 3
   },
   "file_extension": ".py",
   "mimetype": "text/x-python",
   "name": "python",
   "nbconvert_exporter": "python",
   "pygments_lexer": "ipython3",
   "version": "3.12.2"
  }
 },
 "nbformat": 4,
 "nbformat_minor": 2
}
