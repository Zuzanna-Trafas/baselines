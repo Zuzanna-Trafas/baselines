{
 "cells": [
  {
   "cell_type": "code",
   "execution_count": null,
   "metadata": {},
   "outputs": [],
   "source": [
    "import sys\n",
    "sys.path.append('..')\n",
    "\n",
    "%load_ext autoreload\n",
    "%autoreload 2"
   ]
  },
  {
   "cell_type": "code",
   "execution_count": null,
   "metadata": {},
   "outputs": [],
   "source": [
    "import pandas as pd\n",
    "from constants import *"
   ]
  },
  {
   "cell_type": "code",
   "execution_count": null,
   "metadata": {},
   "outputs": [],
   "source": [
    "df = pd.read_csv(MIMIC_CXR_SPLIT_CSV)\n",
    "label_df = pd.read_csv(MIMIC_CXR_LABELS_CSV)"
   ]
  },
  {
   "cell_type": "code",
   "execution_count": null,
   "metadata": {},
   "outputs": [],
   "source": [
    "from PIL import Image, ImageFile"
   ]
  },
  {
   "cell_type": "code",
   "execution_count": null,
   "metadata": {},
   "outputs": [],
   "source": [
    "def check_corrupt_images(df):\n",
    "        corrupt_images = []\n",
    "        for idx in range(len(df)):\n",
    "            row = df.iloc[idx]\n",
    "            study_id = f\"s{row['study_id']}\"\n",
    "            subject_id = f\"p{row['subject_id']}\"\n",
    "            folder_name = subject_id[:3]\n",
    "            img_path = MIMIC_CXR_JPG_DATA_DIR / \"files\" / folder_name / subject_id / study_id / f\"{row['dicom_id']}.jpg\"\n",
    "            if img_path.exists():\n",
    "                try:\n",
    "                    with Image.open(img_path) as img:\n",
    "                        img.verify()  # Verify that it is, in fact, an image\n",
    "                except Exception as e:\n",
    "                    print(f\"Corrupt image found: {img_path} - {e}\")\n",
    "                    corrupt_images.append(img_path)\n",
    "        return corrupt_images\n"
   ]
  },
  {
   "cell_type": "code",
   "execution_count": null,
   "metadata": {},
   "outputs": [],
   "source": [
    "corrupt_images = check_corrupt_images(df)"
   ]
  },
  {
   "cell_type": "code",
   "execution_count": null,
   "metadata": {},
   "outputs": [],
   "source": [
    "len(corrupt_images)"
   ]
  },
  {
   "cell_type": "code",
   "execution_count": null,
   "metadata": {},
   "outputs": [],
   "source": [
    "def extract_relative_path(full_path):\n",
    "    return str(full_path.relative_to('/mnt/data/MIMIC-CXR-JPG/physionet.org/files/mimic-cxr-jpg/2.1.0'))\n",
    "\n",
    "# Create a list of relative paths\n",
    "relative_paths = [extract_relative_path(path) for path in corrupt_images]\n",
    "\n",
    "# Write the relative paths to a file\n",
    "with open('IMAGE_FILENAMES', 'w') as file:\n",
    "    for path in relative_paths:\n",
    "        file.write(f\"{path}\\n\")\n",
    "\n",
    "print(\"File IMAGE_FILENAMES created successfully.\")"
   ]
  }
 ],
 "metadata": {
  "kernelspec": {
   "display_name": "chest-xray",
   "language": "python",
   "name": "python3"
  },
  "language_info": {
   "codemirror_mode": {
    "name": "ipython",
    "version": 3
   },
   "file_extension": ".py",
   "mimetype": "text/x-python",
   "name": "python",
   "nbconvert_exporter": "python",
   "pygments_lexer": "ipython3",
   "version": "3.12.2"
  }
 },
 "nbformat": 4,
 "nbformat_minor": 2
}
