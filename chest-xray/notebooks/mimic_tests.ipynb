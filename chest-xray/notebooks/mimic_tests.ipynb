{
 "cells": [
  {
   "cell_type": "code",
   "execution_count": null,
   "metadata": {},
   "outputs": [],
   "source": [
    "import pandas as pd\n",
    "\n",
    "mimic_path = \"/mnt/data/MIMIC/physionet.org/files/mimiciv/2.2/hosp/\"\n",
    "patients =  pd.read_csv(mimic_path + \"patients.csv.gz\", compression='gzip')\n",
    "admissions = pd.read_csv(mimic_path + \"admissions.csv.gz\", compression='gzip')\n",
    "\n",
    "mimic_cxr_path = \"/mnt/data/MIMIC-CXR-JPG/physionet.org/files/mimic-cxr-jpg/2.1.0/\"\n",
    "split = pd.read_csv(mimic_cxr_path + \"mimic-cxr-2.0.0-split.csv.gz\", compression='gzip')\n",
    "label = pd.read_csv(mimic_cxr_path + \"mimic-cxr-2.0.0-chexpert.csv.gz\", compression='gzip')"
   ]
  },
  {
   "cell_type": "code",
   "execution_count": null,
   "metadata": {},
   "outputs": [],
   "source": [
    "label.replace({-1: 0}, inplace=True)\n",
    "label.fillna(0, inplace=True)"
   ]
  },
  {
   "cell_type": "code",
   "execution_count": null,
   "metadata": {},
   "outputs": [],
   "source": [
    "mimic_cxr_df = pd.merge(split, label, on=['subject_id', 'study_id'])\n",
    "len(mimic_cxr_df)"
   ]
  },
  {
   "cell_type": "code",
   "execution_count": null,
   "metadata": {},
   "outputs": [],
   "source": [
    "df = pd.merge(mimic_cxr_df, patients, on='subject_id')\n",
    "len(df)"
   ]
  },
  {
   "cell_type": "code",
   "execution_count": null,
   "metadata": {},
   "outputs": [],
   "source": [
    "import pandas as pd\n",
    "import seaborn as sns\n",
    "import matplotlib.pyplot as plt\n",
    "from scipy.stats import ttest_ind, mannwhitneyu\n",
    "\n",
    "# List of conditions to check\n",
    "conditions = ['Atelectasis', 'Cardiomegaly', 'Consolidation', 'Edema', 'Enlarged Cardiomediastinum', \n",
    "              'Fracture', 'Pleural Effusion', 'Pleural Other', 'Pneumonia', 'Pneumothorax', 'Support Devices']\n",
    "\n",
    "# Descriptive statistics\n",
    "for condition in conditions:\n",
    "    print(f\"Condition: {condition}\")\n",
    "    print(df.groupby(condition)['anchor_age'].describe(), \"\\n\")\n",
    "\n",
    "# Visualize age distribution\n",
    "for condition in conditions:\n",
    "    sns.boxplot(x=condition, y='anchor_age', data=df)\n",
    "    plt.title(f'Age Distribution by {condition}')\n",
    "    plt.show()\n",
    "\n",
    "# Statistical tests\n",
    "for condition in conditions:\n",
    "    group1 = df[df[condition] == 1]['anchor_age']\n",
    "    group2 = df[df[condition] == 0]['anchor_age']\n",
    "    t_stat, p_value = ttest_ind(group1, group2, nan_policy='omit')\n",
    "    print(f'T-Test for age and {condition}: t-statistic = {t_stat}, p-value = {p_value}')\n",
    "    # Alternatively, for non-parametric test\n",
    "    u_stat, p_value = mannwhitneyu(group1, group2, alternative='two-sided')\n",
    "    print(f'Mann-Whitney U Test for age and {condition}: u-statistic = {u_stat}, p-value = {p_value}\\n')\n"
   ]
  },
  {
   "cell_type": "code",
   "execution_count": null,
   "metadata": {},
   "outputs": [],
   "source": [
    "import pandas as pd\n",
    "import seaborn as sns\n",
    "import matplotlib.pyplot as plt\n",
    "from scipy.stats import chi2_contingency\n",
    "\n",
    "# Assuming gender is coded as 0 and 1 (e.g., 0 for male, 1 for female)\n",
    "\n",
    "# Descriptive statistics\n",
    "for condition in conditions:\n",
    "    print(f\"Condition: {condition}\")\n",
    "    print(df.groupby([condition, 'gender']).size().unstack(), \"\\n\")\n",
    "\n",
    "# Visualize gender distribution\n",
    "for condition in conditions:\n",
    "    sns.countplot(x='gender', hue=condition, data=df)\n",
    "    plt.title(f'Gender Distribution by {condition}')\n",
    "    plt.show()\n",
    "\n",
    "# Chi-square tests\n",
    "for condition in conditions:\n",
    "    contingency_table = pd.crosstab(df['gender'], df[condition])\n",
    "    chi2, p, dof, ex = chi2_contingency(contingency_table)\n",
    "    print(f'Chi-Square Test for gender and {condition}: chi2 = {chi2}, p-value = {p}\\n')\n"
   ]
  }
 ],
 "metadata": {
  "kernelspec": {
   "display_name": "chest-xray",
   "language": "python",
   "name": "python3"
  },
  "language_info": {
   "codemirror_mode": {
    "name": "ipython",
    "version": 3
   },
   "file_extension": ".py",
   "mimetype": "text/x-python",
   "name": "python",
   "nbconvert_exporter": "python",
   "pygments_lexer": "ipython3",
   "version": "3.12.2"
  }
 },
 "nbformat": 4,
 "nbformat_minor": 2
}
