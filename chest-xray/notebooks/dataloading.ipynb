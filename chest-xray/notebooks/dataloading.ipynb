{
 "cells": [
  {
   "cell_type": "code",
   "execution_count": 1,
   "metadata": {},
   "outputs": [],
   "source": [
    "import sys\n",
    "sys.path.append('..')\n",
    "\n",
    "%load_ext autoreload\n",
    "%autoreload 2"
   ]
  },
  {
   "cell_type": "code",
   "execution_count": 2,
   "metadata": {},
   "outputs": [],
   "source": [
    "from datasets.data_module import MIMICDataModule\n",
    "from omegaconf import OmegaConf\n",
    "\n",
    "config_path = '../configs/mimic_classification_config.yaml'\n",
    "cfg = OmegaConf.load(config_path)"
   ]
  },
  {
   "cell_type": "code",
   "execution_count": 3,
   "metadata": {},
   "outputs": [
    {
     "data": {
      "text/plain": [
       "{'experiment_name': 'mimic_classifier', 'phase': 'classification', 'lightning': {'trainer': {'gpus': '1', 'max_epochs': 50, 'distributed_backend': 'dp', 'gradient_clip_val': 0.25, 'lr': 0.0001, 'precision': 16}, 'checkpoint_callback': {'monitor': 'val_loss', 'dirpath': './data/ckpt', 'save_last': True, 'mode': 'min', 'save_top_k': 1}, 'early_stopping_callback': {'monitor': 'val_loss', 'min_delta': 0.0, 'patience': 10, 'verbose': False, 'mode': 'min'}, 'logger': {'logger_type': 'WandbLogger', 'save_dir': './data/', 'project': 'Chest-Xray'}}, 'model': {'vision': {'model_name': 'ray-dino', 'freeze_cnn': True, 'pretrained': True, 'num_targets': 14}}, 'data': {'dataset': 'mimic'}, 'transforms': {'norm': 'half'}, 'train': {'batch_size': 1, 'num_workers': 1, 'loss_fn': {'type': 'BCE'}, 'optimizer': {'name': 'Adam', 'weight_decay': 1e-06}, 'scheduler': {'name': 'plateau', 'monitor': 'val_loss', 'interval': 'epoch', 'frequency': 3}}}"
      ]
     },
     "execution_count": 3,
     "metadata": {},
     "output_type": "execute_result"
    }
   ],
   "source": [
    "cfg"
   ]
  },
  {
   "cell_type": "code",
   "execution_count": 4,
   "metadata": {},
   "outputs": [],
   "source": [
    "train_dataloader = MIMICDataModule(cfg).train_dataloader()"
   ]
  },
  {
   "cell_type": "code",
   "execution_count": 5,
   "metadata": {},
   "outputs": [
    {
     "data": {
      "text/plain": [
       "368960"
      ]
     },
     "execution_count": 5,
     "metadata": {},
     "output_type": "execute_result"
    }
   ],
   "source": [
    "len(train_dataloader)"
   ]
  },
  {
   "cell_type": "code",
   "execution_count": 6,
   "metadata": {},
   "outputs": [
    {
     "name": "stdout",
     "output_type": "stream",
     "text": [
      "torch.Size([1, 3, 3056, 2544])\n"
     ]
    }
   ],
   "source": [
    "for batch in train_dataloader:\n",
    "    print(batch['image'].shape)\n",
    "    break"
   ]
  }
 ],
 "metadata": {
  "kernelspec": {
   "display_name": "multimodal",
   "language": "python",
   "name": "python3"
  },
  "language_info": {
   "codemirror_mode": {
    "name": "ipython",
    "version": 3
   },
   "file_extension": ".py",
   "mimetype": "text/x-python",
   "name": "python",
   "nbconvert_exporter": "python",
   "pygments_lexer": "ipython3",
   "version": "3.12.2"
  }
 },
 "nbformat": 4,
 "nbformat_minor": 2
}
